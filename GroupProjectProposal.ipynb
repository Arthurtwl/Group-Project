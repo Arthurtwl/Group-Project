{
 "cells": [
  {
   "cell_type": "markdown",
   "metadata": {},
   "source": [
    "Identifying Iris species\n",
    "Irises are flowers that are generally blue or purple, with outstretched petals and sepals. Worldwide, the Iris genus contains approximately 300 species, from large bearded to dwarf irises. Sepals are the part of the flower that covers the outside of the bud and protects the flower before it blossoms. Petals are modified leaves that attract pollinators and protect reproductive organs. The question we are trying to answer is: Given the sepal length, sepal width, petal length, and petal width, which species of Iris (Setosa, Versicolour, or Virginica) does the Iris plant belong to? The data set that we are using for our project is the Iris Data Set from the UCI Machine Learning Repository. There are 3 types of Iris species being observed in this dataset: Iris Setosa, Iris Versicolor, and Iris Virginica. The four attributes about each type of iris flower are the sepal length, sepal width, petal length, and petal width, all in cm. Using these four attributes, we believe we can predict the type of Iris species."
   ]
  },
  {
   "cell_type": "code",
   "execution_count": null,
   "metadata": {},
   "outputs": [],
   "source": [
    "iris=read_csv('data/iris.data')%>%\n",
    "mutate(class=as_factor(class))"
   ]
  },
  {
   "cell_type": "markdown",
   "metadata": {},
   "source": [
    "For our data analysis, we are thinking of using K-nearest neighbours classification. This will allow us to predict the class of a categorical variable, which is the species of Iris, using various quantitative/numerical variables. \n",
    "The variables we will be using are all the four attributes of the Iris, which are sepal length, sepal width, petal length, and petal width. These four quantitative variables are useful variables that would help to make a good prediction because sepals and petals are important components of the anatomy of flowers in general, including Irises. We will display our results as two scatter plots, with the length and width variables on the x and y axes respectively. One of the scatterplots will show the relationship of petal length and width, the other the sepal length and width. Additionally, we will colour the points based on their class on both scatterplots."
   ]
  },
  {
   "cell_type": "markdown",
   "metadata": {},
   "source": [
    "We expect to find a positive relationship between the specific qualities of a species’ petals and sepals and the species of Iris they are. Our findings could help identify a general pattern of petal and sepal qualities in case someone wanted to distinguish between the three of them. For example, Iris Setosa and Iris Virginica both have medicinal uses while Iris Versicolor is poisonous.  Additionally, if our model is accurate enough, it could help predict the type of Iris plant when looking at a variety of the types of Irises. Our findings could lead to further questions, such as whether there are other characteristics of irises that can help us better determine which category a new observation belongs to, such as its step or colours. We can also include more species of iris to analyze in our study to distinguish all of them and their unique properties."
   ]
  }
 ],
 "metadata": {
  "kernelspec": {
   "display_name": "R",
   "language": "R",
   "name": "ir"
  },
  "language_info": {
   "codemirror_mode": "r",
   "file_extension": ".r",
   "mimetype": "text/x-r-source",
   "name": "R",
   "pygments_lexer": "r",
   "version": "4.0.0"
  }
 },
 "nbformat": 4,
 "nbformat_minor": 4
}
