{
 "cells": [
  {
   "cell_type": "markdown",
   "metadata": {},
   "source": [
    "Factors that help improve Portuguese student performance in Math class\n",
    "\n",
    "There are many factors in a student’s life that could affect their performance in school, and determining which factors are the most influential to a student’s success will definitely be helpful when deciding how to most effectively utilize spare time. Our project aims to answer the following question: What attributes that are within students’ control will help improve Portuguese student performance in Math class? We will use a data set from the UCI Machine Learning Repository to answer this question. The dataset we will be using in this research project is the Student Performance Data Set from the UCI Machine Learning Repository. This data set explores the student academic achievement of students in two Portugese schools. It includes information that is related to a students’ social life, financial situation, motivation, extracurriculars, and general support resources in academics. The data was collected from a combination of questionnaires and school reports. Additionally, the data comes from the performance of students in Mathematics. The data set also provides students’ grades for the first period, second period, and final grades. With our research, we will primarily be focused on the students’ final grades.\n",
    "It might be suitable for us to use Linear Regression to do the data analysis on categorical explanatory variables since our response variable is numerical and intuitively, it’s highly likely that there should be a linear relationship between those attributes we chose and the response variable (final grade).The variables that we are using for the x-axis are a combination of binary and numeric variables. The binary variables include the family educational support, extra paid classes within the course subject, extra-curricular activities, and wanting to take higher education. The numeric variables include weekly study time, quality of family relationships, free time after school, and current health status. The variable that we are using for the y-axis is the final grade (G3), which is a numeric variable, and will allow us to determine whether the students’ performance is good or bad.\n",
    "We are going to use bar plots to visualize the relationship between student performance and binary variables and scatter plots to visualize the relationship between student performance and numeric variables. We expect to find which of those attributes affect student performance and how strong their effect is. We hypothesize that there will be a strong positive relationship between greater student performance and greater weekly study time, health status, family educational support, extra paid classes within the course subject, and quality of family relationships.\n",
    "With our findings, students who wish to improve their performance will gain insight into factors that could potentially improve their performance in math class and possibly in other classes, if they did not know already.Our findings can lead to questions concerning whether these findings can be applied to different courses, students living in different countries such as Canada, and whether there are other factors that would improve one’s performance. Additionally, these findings could spark research in the ways in which students can improve the factors or attributes that have been found to improve student performance. \n",
    "\n"
   ]
  }
 ],
 "metadata": {
  "kernelspec": {
   "display_name": "R",
   "language": "R",
   "name": "ir"
  },
  "language_info": {
   "codemirror_mode": "r",
   "file_extension": ".r",
   "mimetype": "text/x-r-source",
   "name": "R",
   "pygments_lexer": "r",
   "version": "4.0.0"
  }
 },
 "nbformat": 4,
 "nbformat_minor": 4
}
